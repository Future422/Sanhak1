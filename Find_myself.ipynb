{
  "nbformat": 4,
  "nbformat_minor": 0,
  "metadata": {
    "colab": {
      "provenance": [],
      "authorship_tag": "ABX9TyN/QxaNs+w8LdrMx1oy5XdN",
      "include_colab_link": true
    },
    "kernelspec": {
      "name": "python3",
      "display_name": "Python 3"
    },
    "language_info": {
      "name": "python"
    }
  },
  "cells": [
    {
      "cell_type": "markdown",
      "metadata": {
        "id": "view-in-github",
        "colab_type": "text"
      },
      "source": [
        "<a href=\"https://colab.research.google.com/github/Future422/Sanhak1/blob/main/Find_myself.ipynb\" target=\"_parent\"><img src=\"https://colab.research.google.com/assets/colab-badge.svg\" alt=\"Open In Colab\"/></a>"
      ]
    },
    {
      "cell_type": "code",
      "execution_count": null,
      "metadata": {
        "colab": {
          "base_uri": "https://localhost:8080/"
        },
        "id": "Z11lWqrF_aMf",
        "outputId": "fd05333d-b32a-41ec-ba2b-81ba281603e8"
      },
      "outputs": [
        {
          "output_type": "stream",
          "name": "stdout",
          "text": [
            "Mounted at /content/drive\n",
            "File exists at /content/drive/MyDrive/classification/G_toilet.csv\n",
            "    철도운영기관명   선명     역명 지상지하구분  역층 게이트내외  출구번호               상세위치\n",
            "0  광주도시철도공사  1호선     공항     지하   1     외     4  (B1) 3번/4번 출입구 방향\n",
            "1  광주도시철도공사  1호선     공항     지하   1     외     4  (B1) 3번/4번 출입구 방향\n",
            "2  광주도시철도공사  1호선  광주송정역     지하   1     외     1  (B1) 1번/2번 출입구 방향\n",
            "3  광주도시철도공사  1호선  광주송정역     지상   1     외     1  (B1) 1번/2번 출입구 방향\n",
            "4  광주도시철도공사  1호선  금남로4가     지상   1     외     2    (B1) 대합실 공연무대 옆\n"
          ]
        }
      ],
      "source": [
        "from google.colab import drive\n",
        "drive.mount('/content/drive')\n",
        "\n",
        "import os\n",
        "import pandas as pd\n",
        "\n",
        "# Google Drive에 저장된 CSV 파일 경로\n",
        "file_path = '/content/drive/MyDrive/classification/G_toilet.csv'\n",
        "\n",
        "# 파일이 실제로 존재하는지 확인\n",
        "if os.path.exists(file_path):\n",
        "    print(f\"File exists at {file_path}\")\n",
        "    # CSV 파일을 불러오기 (인코딩 명시)\n",
        "    df = pd.read_csv(file_path, encoding='euc-kr')  # 또는 encoding='cp949'\n",
        "    # 데이터프레임 확인\n",
        "    print(df.head())\n",
        "else:\n",
        "    print(f\"File not found at {file_path}\")"
      ]
    },
    {
      "cell_type": "code",
      "source": [
        "df['Floor'] = df['상세위치'].str.extract(r'\\(([^)]+)\\)')\n",
        "df['Location'] = df['상세위치'].str.extract(r'\\) (.*)')\n",
        "\n",
        "# Display the updated DataFrame\n",
        "print(df.head())"
      ],
      "metadata": {
        "colab": {
          "base_uri": "https://localhost:8080/"
        },
        "id": "lbMWaNZh_r8U",
        "outputId": "2cbbf152-40bf-4d52-9abb-cafda7e896a8"
      },
      "execution_count": null,
      "outputs": [
        {
          "output_type": "stream",
          "name": "stdout",
          "text": [
            "    철도운영기관명   선명     역명 지상지하구분  역층 게이트내외  출구번호               상세위치 Floor  \\\n",
            "0  광주도시철도공사  1호선     공항     지하   1     외     4  (B1) 3번/4번 출입구 방향    B1   \n",
            "1  광주도시철도공사  1호선     공항     지하   1     외     4  (B1) 3번/4번 출입구 방향    B1   \n",
            "2  광주도시철도공사  1호선  광주송정역     지하   1     외     1  (B1) 1번/2번 출입구 방향    B1   \n",
            "3  광주도시철도공사  1호선  광주송정역     지상   1     외     1  (B1) 1번/2번 출입구 방향    B1   \n",
            "4  광주도시철도공사  1호선  금남로4가     지상   1     외     2    (B1) 대합실 공연무대 옆    B1   \n",
            "\n",
            "       Location  \n",
            "0  3번/4번 출입구 방향  \n",
            "1  3번/4번 출입구 방향  \n",
            "2  1번/2번 출입구 방향  \n",
            "3  1번/2번 출입구 방향  \n",
            "4    대합실 공연무대 옆  \n"
          ]
        }
      ]
    },
    {
      "cell_type": "code",
      "source": [
        "# Cell 3: Save DataFrame to a New CSV File\n",
        "output_file_path = '/content/drive/MyDrive/classification/Find_Toilet.csv'\n",
        "\n",
        "# 데이터프레임을 새로운 CSV 파일로 저장\n",
        "# CSV 파일로 저장 (인코딩 명시)\n",
        "df.to_csv(output_file_path, encoding='utf-8', index=False)\n",
        "\n",
        "print(f\"DataFrame saved to {output_file_path}\")"
      ],
      "metadata": {
        "colab": {
          "base_uri": "https://localhost:8080/"
        },
        "id": "NEzt87HqCzYl",
        "outputId": "b357f10e-9283-42a2-d607-e761a4d4d2b5"
      },
      "execution_count": null,
      "outputs": [
        {
          "output_type": "stream",
          "name": "stdout",
          "text": [
            "DataFrame saved to /content/drive/MyDrive/classification/Find_Toilet.csv\n"
          ]
        }
      ]
    },
    {
      "cell_type": "code",
      "source": [
        "from google.colab import drive\n",
        "drive.mount('/content/drive')\n",
        "\n",
        "import os\n",
        "import pandas as pd\n",
        "\n",
        "# Google Drive에 저장된 CSV 파일 경로\n",
        "file_path = '/content/drive/MyDrive/classification/Find_Toilet.csv'\n",
        "\n",
        "# 파일이 실제로 존재하는지 확인\n",
        "if os.path.exists(file_path):\n",
        "    print(f\"File exists at {file_path}\")\n",
        "    # CSV 파일을 불러오기 (인코딩 명시)\n",
        "    df = pd.read_csv(file_path, encoding='utf-8')  # 또는 encoding='cp949'\n",
        "    # 데이터프레임 확인\n",
        "    print(df.head())\n",
        "else:\n",
        "    print(f\"File not found at {file_path}\")\n",
        "\n",
        "# 사용자로부터 입력 받기\n",
        "user_input = input(\"원하는 역명을 입력하세요: \")\n",
        "\n",
        "# '역명' 열에서 입력값과 일치하는 행 추출\n",
        "result_df = df[df['역명'] == user_input]\n",
        "\n",
        "# 결과 출력\n",
        "if not result_df.empty:\n",
        "    # 'Location' 열만 출력\n",
        "    print(result_df['Location'])\n",
        "else:\n",
        "    print(\"일치하는 역명이 없습니다.\")\n"
      ],
      "metadata": {
        "colab": {
          "base_uri": "https://localhost:8080/"
        },
        "id": "PRhrW85cdL9V",
        "outputId": "cffdd1d5-939b-4212-9356-65fc4ba59995"
      },
      "execution_count": null,
      "outputs": [
        {
          "output_type": "stream",
          "name": "stdout",
          "text": [
            "Drive already mounted at /content/drive; to attempt to forcibly remount, call drive.mount(\"/content/drive\", force_remount=True).\n",
            "File exists at /content/drive/MyDrive/classification/Find_Toilet.csv\n",
            "    철도운영기관명   선명     역명 지상지하구분  역층 게이트내외  출구번호               상세위치 Floor  \\\n",
            "0  광주도시철도공사  1호선     공항     지하   1     외     4  (B1) 3번/4번 출입구 방향    B1   \n",
            "1  광주도시철도공사  1호선     공항     지하   1     외     4  (B1) 3번/4번 출입구 방향    B1   \n",
            "2  광주도시철도공사  1호선  광주송정역     지하   1     외     1  (B1) 1번/2번 출입구 방향    B1   \n",
            "3  광주도시철도공사  1호선  광주송정역     지상   1     외     1  (B1) 1번/2번 출입구 방향    B1   \n",
            "4  광주도시철도공사  1호선  금남로4가     지상   1     외     2    (B1) 대합실 공연무대 옆    B1   \n",
            "\n",
            "       Location  \n",
            "0  3번/4번 출입구 방향  \n",
            "1  3번/4번 출입구 방향  \n",
            "2  1번/2번 출입구 방향  \n",
            "3  1번/2번 출입구 방향  \n",
            "4    대합실 공연무대 옆  \n",
            "원하는 역명을 입력하세요: 농성\n",
            "16    7번 출입구 방향\n",
            "17    7번 출입구 방향\n",
            "Name: Location, dtype: object\n"
          ]
        }
      ]
    },
    {
      "cell_type": "code",
      "source": [
        "import folium\n",
        "\n",
        "def plot_circle_on_map(center, radius, map_obj):\n",
        "    folium.Circle(\n",
        "        location=center,\n",
        "        radius=radius,\n",
        "        color='blue',\n",
        "        fill=False,\n",
        "        fill_opacity=0.6,\n",
        "        fill_color='blue'\n",
        "    ).add_to(map_obj)\n",
        "\n",
        "from geopy.geocoders import Nominatim\n",
        "\n",
        "def get_location_coordinates(location_name):\n",
        "    geolocator = Nominatim(user_agent=\"my_geocoder\")\n",
        "    location = geolocator.geocode(location_name)\n",
        "\n",
        "    if location:\n",
        "        return [location.latitude, location.longitude]\n",
        "    else:\n",
        "        return None\n",
        "\n",
        "# 검색\n",
        "location_name = user_input+\"역\"\n",
        "want_location = get_location_coordinates(location_name)\n",
        "\n",
        "if want_location:\n",
        "    print(f\"{location_name}의 위치 좌표: {want_location}\")"
      ],
      "metadata": {
        "colab": {
          "base_uri": "https://localhost:8080/"
        },
        "id": "b9llHSadEUKn",
        "outputId": "0281025f-37a7-4ce5-c2aa-19edb35711f3"
      },
      "execution_count": null,
      "outputs": [
        {
          "output_type": "stream",
          "name": "stdout",
          "text": [
            "농성역의 위치 좌표: [35.1537263, 126.8839722]\n"
          ]
        }
      ]
    },
    {
      "cell_type": "code",
      "source": [
        "!pip install folium geopy"
      ],
      "metadata": {
        "colab": {
          "base_uri": "https://localhost:8080/"
        },
        "id": "b9yrltrifeuZ",
        "outputId": "7bbb6187-7840-49c5-f64e-73f403f8589f"
      },
      "execution_count": null,
      "outputs": [
        {
          "output_type": "stream",
          "name": "stdout",
          "text": [
            "Requirement already satisfied: folium in /usr/local/lib/python3.10/dist-packages (0.14.0)\n",
            "Requirement already satisfied: geopy in /usr/local/lib/python3.10/dist-packages (2.3.0)\n",
            "Requirement already satisfied: branca>=0.6.0 in /usr/local/lib/python3.10/dist-packages (from folium) (0.7.0)\n",
            "Requirement already satisfied: jinja2>=2.9 in /usr/local/lib/python3.10/dist-packages (from folium) (3.1.2)\n",
            "Requirement already satisfied: numpy in /usr/local/lib/python3.10/dist-packages (from folium) (1.23.5)\n",
            "Requirement already satisfied: requests in /usr/local/lib/python3.10/dist-packages (from folium) (2.31.0)\n",
            "Requirement already satisfied: geographiclib<3,>=1.52 in /usr/local/lib/python3.10/dist-packages (from geopy) (2.0)\n",
            "Requirement already satisfied: MarkupSafe>=2.0 in /usr/local/lib/python3.10/dist-packages (from jinja2>=2.9->folium) (2.1.3)\n",
            "Requirement already satisfied: charset-normalizer<4,>=2 in /usr/local/lib/python3.10/dist-packages (from requests->folium) (3.3.2)\n",
            "Requirement already satisfied: idna<4,>=2.5 in /usr/local/lib/python3.10/dist-packages (from requests->folium) (3.6)\n",
            "Requirement already satisfied: urllib3<3,>=1.21.1 in /usr/local/lib/python3.10/dist-packages (from requests->folium) (2.0.7)\n",
            "Requirement already satisfied: certifi>=2017.4.17 in /usr/local/lib/python3.10/dist-packages (from requests->folium) (2023.11.17)\n"
          ]
        }
      ]
    },
    {
      "cell_type": "code",
      "source": [
        "import folium\n",
        "from geopy.geocoders import Nominatim\n",
        "\n",
        "def plot_circle_on_map(center, radius, map_obj):\n",
        "    folium.Circle(\n",
        "        location=center,\n",
        "        radius=radius,\n",
        "        color='blue',\n",
        "        fill=False,\n",
        "        fill_opacity=0.6,\n",
        "        fill_color='blue'\n",
        "    ).add_to(map_obj)\n",
        "\n",
        "# 사용자로부터 입력 받기\n",
        "user_input = input(\"원하는 역명을 입력하세요: \")\n",
        "\n",
        "# 검색\n",
        "location_name = user_input + \"역\"\n",
        "\n",
        "# 위치 좌표 검색\n",
        "geolocator = Nominatim(user_agent=\"my_geocoder\")\n",
        "want_location = geolocator.geocode(location_name)\n",
        "\n",
        "if want_location:\n",
        "    want_location_coords = [want_location.latitude, want_location.longitude]\n",
        "    print(f\"{location_name}의 위치 좌표: {want_location_coords}\")\n",
        "\n",
        "    # 지도에 원 표시\n",
        "    map_obj = folium.Map(location=want_location_coords, zoom_start=15)\n",
        "    plot_circle_on_map(want_location_coords, radius=10, map_obj=map_obj)\n",
        "\n",
        "    # Colab에 지도 표시\n",
        "    display(map_obj)\n",
        "else:\n",
        "    print(\"일치하는 역명이 없습니다.\")\n"
      ],
      "metadata": {
        "colab": {
          "base_uri": "https://localhost:8080/",
          "height": 927
        },
        "id": "nqp-1-ZbjvSw",
        "outputId": "dfb892fd-58ac-44d5-f201-4395b9cefc73"
      },
      "execution_count": null,
      "outputs": [
        {
          "output_type": "stream",
          "name": "stdout",
          "text": [
            "원하는 역명을 입력하세요: 농성\n",
            "농성역의 위치 좌표: [35.1537263, 126.8839722]\n"
          ]
        },
        {
          "output_type": "display_data",
          "data": {
            "text/plain": [
              "<folium.folium.Map at 0x7ce345224670>"
            ],
            "text/html": [
              "<div style=\"width:100%;\"><div style=\"position:relative;width:100%;height:0;padding-bottom:60%;\"><span style=\"color:#565656\">Make this Notebook Trusted to load map: File -> Trust Notebook</span><iframe srcdoc=\"&lt;!DOCTYPE html&gt;\n",
              "&lt;html&gt;\n",
              "&lt;head&gt;\n",
              "    \n",
              "    &lt;meta http-equiv=&quot;content-type&quot; content=&quot;text/html; charset=UTF-8&quot; /&gt;\n",
              "    \n",
              "        &lt;script&gt;\n",
              "            L_NO_TOUCH = false;\n",
              "            L_DISABLE_3D = false;\n",
              "        &lt;/script&gt;\n",
              "    \n",
              "    &lt;style&gt;html, body {width: 100%;height: 100%;margin: 0;padding: 0;}&lt;/style&gt;\n",
              "    &lt;style&gt;#map {position:absolute;top:0;bottom:0;right:0;left:0;}&lt;/style&gt;\n",
              "    &lt;script src=&quot;https://cdn.jsdelivr.net/npm/leaflet@1.9.3/dist/leaflet.js&quot;&gt;&lt;/script&gt;\n",
              "    &lt;script src=&quot;https://code.jquery.com/jquery-1.12.4.min.js&quot;&gt;&lt;/script&gt;\n",
              "    &lt;script src=&quot;https://cdn.jsdelivr.net/npm/bootstrap@5.2.2/dist/js/bootstrap.bundle.min.js&quot;&gt;&lt;/script&gt;\n",
              "    &lt;script src=&quot;https://cdnjs.cloudflare.com/ajax/libs/Leaflet.awesome-markers/2.0.2/leaflet.awesome-markers.js&quot;&gt;&lt;/script&gt;\n",
              "    &lt;link rel=&quot;stylesheet&quot; href=&quot;https://cdn.jsdelivr.net/npm/leaflet@1.9.3/dist/leaflet.css&quot;/&gt;\n",
              "    &lt;link rel=&quot;stylesheet&quot; href=&quot;https://cdn.jsdelivr.net/npm/bootstrap@5.2.2/dist/css/bootstrap.min.css&quot;/&gt;\n",
              "    &lt;link rel=&quot;stylesheet&quot; href=&quot;https://netdna.bootstrapcdn.com/bootstrap/3.0.0/css/bootstrap.min.css&quot;/&gt;\n",
              "    &lt;link rel=&quot;stylesheet&quot; href=&quot;https://cdn.jsdelivr.net/npm/@fortawesome/fontawesome-free@6.2.0/css/all.min.css&quot;/&gt;\n",
              "    &lt;link rel=&quot;stylesheet&quot; href=&quot;https://cdnjs.cloudflare.com/ajax/libs/Leaflet.awesome-markers/2.0.2/leaflet.awesome-markers.css&quot;/&gt;\n",
              "    &lt;link rel=&quot;stylesheet&quot; href=&quot;https://cdn.jsdelivr.net/gh/python-visualization/folium/folium/templates/leaflet.awesome.rotate.min.css&quot;/&gt;\n",
              "    \n",
              "            &lt;meta name=&quot;viewport&quot; content=&quot;width=device-width,\n",
              "                initial-scale=1.0, maximum-scale=1.0, user-scalable=no&quot; /&gt;\n",
              "            &lt;style&gt;\n",
              "                #map_677d485d4b9a9b43c51d08eeb61da0b0 {\n",
              "                    position: relative;\n",
              "                    width: 100.0%;\n",
              "                    height: 100.0%;\n",
              "                    left: 0.0%;\n",
              "                    top: 0.0%;\n",
              "                }\n",
              "                .leaflet-container { font-size: 1rem; }\n",
              "            &lt;/style&gt;\n",
              "        \n",
              "&lt;/head&gt;\n",
              "&lt;body&gt;\n",
              "    \n",
              "    \n",
              "            &lt;div class=&quot;folium-map&quot; id=&quot;map_677d485d4b9a9b43c51d08eeb61da0b0&quot; &gt;&lt;/div&gt;\n",
              "        \n",
              "&lt;/body&gt;\n",
              "&lt;script&gt;\n",
              "    \n",
              "    \n",
              "            var map_677d485d4b9a9b43c51d08eeb61da0b0 = L.map(\n",
              "                &quot;map_677d485d4b9a9b43c51d08eeb61da0b0&quot;,\n",
              "                {\n",
              "                    center: [35.1537263, 126.8839722],\n",
              "                    crs: L.CRS.EPSG3857,\n",
              "                    zoom: 15,\n",
              "                    zoomControl: true,\n",
              "                    preferCanvas: false,\n",
              "                }\n",
              "            );\n",
              "\n",
              "            \n",
              "\n",
              "        \n",
              "    \n",
              "            var tile_layer_e8e9a9192cdc2a900b596538998537d9 = L.tileLayer(\n",
              "                &quot;https://{s}.tile.openstreetmap.org/{z}/{x}/{y}.png&quot;,\n",
              "                {&quot;attribution&quot;: &quot;Data by \\u0026copy; \\u003ca target=\\&quot;_blank\\&quot; href=\\&quot;http://openstreetmap.org\\&quot;\\u003eOpenStreetMap\\u003c/a\\u003e, under \\u003ca target=\\&quot;_blank\\&quot; href=\\&quot;http://www.openstreetmap.org/copyright\\&quot;\\u003eODbL\\u003c/a\\u003e.&quot;, &quot;detectRetina&quot;: false, &quot;maxNativeZoom&quot;: 18, &quot;maxZoom&quot;: 18, &quot;minZoom&quot;: 0, &quot;noWrap&quot;: false, &quot;opacity&quot;: 1, &quot;subdomains&quot;: &quot;abc&quot;, &quot;tms&quot;: false}\n",
              "            ).addTo(map_677d485d4b9a9b43c51d08eeb61da0b0);\n",
              "        \n",
              "    \n",
              "            var circle_0e165a0285d95395d1644b3b1471c130 = L.circle(\n",
              "                [35.1537263, 126.8839722],\n",
              "                {&quot;bubblingMouseEvents&quot;: true, &quot;color&quot;: &quot;blue&quot;, &quot;dashArray&quot;: null, &quot;dashOffset&quot;: null, &quot;fill&quot;: true, &quot;fillColor&quot;: &quot;blue&quot;, &quot;fillOpacity&quot;: 0.6, &quot;fillRule&quot;: &quot;evenodd&quot;, &quot;lineCap&quot;: &quot;round&quot;, &quot;lineJoin&quot;: &quot;round&quot;, &quot;opacity&quot;: 1.0, &quot;radius&quot;: 10, &quot;stroke&quot;: true, &quot;weight&quot;: 3}\n",
              "            ).addTo(map_677d485d4b9a9b43c51d08eeb61da0b0);\n",
              "        \n",
              "&lt;/script&gt;\n",
              "&lt;/html&gt;\" style=\"position:absolute;width:100%;height:100%;left:0;top:0;border:none !important;\" allowfullscreen webkitallowfullscreen mozallowfullscreen></iframe></div></div>"
            ]
          },
          "metadata": {}
        }
      ]
    }
  ]
}